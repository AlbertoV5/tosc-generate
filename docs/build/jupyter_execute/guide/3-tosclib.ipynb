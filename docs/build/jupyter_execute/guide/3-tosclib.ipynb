{
 "cells": [
  {
   "cell_type": "code",
   "execution_count": 1,
   "id": "497c37a5",
   "metadata": {
    "execution": {
     "iopub.execute_input": "2022-05-24T18:45:23.504932Z",
     "iopub.status.busy": "2022-05-24T18:45:23.504293Z",
     "iopub.status.idle": "2022-05-24T18:45:23.529125Z",
     "shell.execute_reply": "2022-05-24T18:45:23.528348Z"
    }
   },
   "outputs": [
    {
     "name": "stdout",
     "output_type": "stream",
     "text": [
      "<property type=\"c\">\n",
      "  <key>color</key>\n",
      "  <value>\n",
      "    <r>0.25</r>\n",
      "    <g>0.25</g>\n",
      "    <b>0.25</b>\n",
      "    <a>1</a>\n",
      "  </value>\n",
      "</property>\n"
     ]
    }
   ],
   "source": [
    "import tosclib as tosc\n",
    "\n",
    "root = tosc.load(\"../demos/files/test.tosc\")\n",
    "parent = tosc.e(root[0])\n",
    "target = tosc.e(parent.findChild(\"target\"))\n",
    "target.showProperty(\"color\")"
   ]
  },
  {
   "cell_type": "code",
   "execution_count": 2,
   "id": "cf53dca1",
   "metadata": {
    "execution": {
     "iopub.execute_input": "2022-05-24T18:45:23.532773Z",
     "iopub.status.busy": "2022-05-24T18:45:23.532431Z",
     "iopub.status.idle": "2022-05-24T18:45:23.536899Z",
     "shell.execute_reply": "2022-05-24T18:45:23.536188Z"
    }
   },
   "outputs": [
    {
     "name": "stdout",
     "output_type": "stream",
     "text": [
      "<property type=\"c\">\n",
      "  <key>color</key>\n",
      "  <value>\n",
      "    <r>0</r>\n",
      "    <g>0</g>\n",
      "    <b>1</b>\n",
      "    <a>1</a>\n",
      "  </value>\n",
      "</property>\n"
     ]
    }
   ],
   "source": [
    "colors = {\"r\":\"0\", \"g\":\"0\", \"b\":\"1\", \"a\":\"1\"}\n",
    "target.setPropertyValue(\"color\", params = colors)\n",
    "target.showProperty(\"color\")"
   ]
  },
  {
   "cell_type": "code",
   "execution_count": 3,
   "id": "7ffb58ef",
   "metadata": {
    "execution": {
     "iopub.execute_input": "2022-05-24T18:45:23.540195Z",
     "iopub.status.busy": "2022-05-24T18:45:23.539910Z",
     "iopub.status.idle": "2022-05-24T18:45:23.570911Z",
     "shell.execute_reply": "2022-05-24T18:45:23.570155Z"
    }
   },
   "outputs": [
    {
     "data": {
      "text/plain": [
       "True"
      ]
     },
     "execution_count": 3,
     "metadata": {},
     "output_type": "execute_result"
    }
   ],
   "source": [
    "tosc.write(root, \"../demos/files/out.tosc\")"
   ]
  },
  {
   "cell_type": "code",
   "execution_count": 4,
   "id": "7903d54d",
   "metadata": {
    "execution": {
     "iopub.execute_input": "2022-05-24T18:45:23.574343Z",
     "iopub.status.busy": "2022-05-24T18:45:23.574061Z",
     "iopub.status.idle": "2022-05-24T18:45:23.607063Z",
     "shell.execute_reply": "2022-05-24T18:45:23.606322Z"
    }
   },
   "outputs": [
    {
     "name": "stdout",
     "output_type": "stream",
     "text": [
      "Added Property: \n",
      "<property type=\"s\">\n",
      "  <key>GlobalVariable</key>\n",
      "  <value>1007</value>\n",
      "</property>\n"
     ]
    },
    {
     "data": {
      "text/plain": [
       "True"
      ]
     },
     "execution_count": 4,
     "metadata": {},
     "output_type": "execute_result"
    }
   ],
   "source": [
    "import tosclib as tosc\n",
    "import argparse\n",
    "\n",
    "root = tosc.load(\"../demos/files/test.tosc\")\n",
    "parent = tosc.ElementTOSC(root[0])\n",
    "\n",
    "# Creating Property in parent Node\n",
    "parent.createProperty(\n",
    "                        type =\"s\",\n",
    "                        key = \"GlobalVariable\",\n",
    "                        text = \"1007\"\n",
    "                     )\n",
    "\n",
    "print(\"Added Property: \")\n",
    "parent.showProperty(\"GlobalVariable\")\n",
    "tosc.write(root, \"../demos/files/out.tosc\")"
   ]
  }
 ],
 "metadata": {
  "kernelspec": {
   "display_name": "Python 3 (ipykernel)",
   "language": "python",
   "name": "python3"
  },
  "language_info": {
   "codemirror_mode": {
    "name": "ipython",
    "version": 3
   },
   "file_extension": ".py",
   "mimetype": "text/x-python",
   "name": "python",
   "nbconvert_exporter": "python",
   "pygments_lexer": "ipython3",
   "version": "3.9.12"
  }
 },
 "nbformat": 4,
 "nbformat_minor": 5
}