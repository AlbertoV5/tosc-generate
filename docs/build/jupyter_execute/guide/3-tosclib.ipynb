{
 "cells": [
  {
   "cell_type": "code",
   "execution_count": 1,
   "id": "1fca0615",
   "metadata": {
    "execution": {
     "iopub.execute_input": "2022-05-26T19:44:23.364902Z",
     "iopub.status.busy": "2022-05-26T19:44:23.364902Z",
     "iopub.status.idle": "2022-05-26T19:44:23.382901Z",
     "shell.execute_reply": "2022-05-26T19:44:23.382901Z"
    }
   },
   "outputs": [
    {
     "name": "stdout",
     "output_type": "stream",
     "text": [
      "<property type=\"c\">\n",
      "  <key>color</key>\n",
      "  <value>\n",
      "    <r>0.25</r>\n",
      "    <g>0.25</g>\n",
      "    <b>0.25</b>\n",
      "    <a>1</a>\n",
      "  </value>\n",
      "</property>\n"
     ]
    }
   ],
   "source": [
    "import tosclib as tosc\n",
    "\n",
    "root = tosc.load(\"../demos/files/test.tosc\")\n",
    "parent = tosc.e(root[0])\n",
    "target = tosc.e(parent.findChild(\"target\"))\n",
    "target.showProperty(\"color\")"
   ]
  },
  {
   "cell_type": "code",
   "execution_count": 2,
   "id": "fbf5676b",
   "metadata": {
    "execution": {
     "iopub.execute_input": "2022-05-26T19:44:23.384902Z",
     "iopub.status.busy": "2022-05-26T19:44:23.384902Z",
     "iopub.status.idle": "2022-05-26T19:44:23.387902Z",
     "shell.execute_reply": "2022-05-26T19:44:23.387902Z"
    }
   },
   "outputs": [
    {
     "name": "stdout",
     "output_type": "stream",
     "text": [
      "<property type=\"c\">\n",
      "  <key>color</key>\n",
      "  <value>\n",
      "    <r>0</r>\n",
      "    <g>0</g>\n",
      "    <b>1</b>\n",
      "    <a>1</a>\n",
      "  </value>\n",
      "</property>\n"
     ]
    }
   ],
   "source": [
    "colors = {\"r\":\"0\", \"g\":\"0\", \"b\":\"1\", \"a\":\"1\"}\n",
    "target.setPropertyValue(\"color\", params = colors)\n",
    "target.showProperty(\"color\")"
   ]
  },
  {
   "cell_type": "code",
   "execution_count": 3,
   "id": "2aeb7917",
   "metadata": {
    "execution": {
     "iopub.execute_input": "2022-05-26T19:44:23.389903Z",
     "iopub.status.busy": "2022-05-26T19:44:23.389903Z",
     "iopub.status.idle": "2022-05-26T19:44:23.413902Z",
     "shell.execute_reply": "2022-05-26T19:44:23.413902Z"
    }
   },
   "outputs": [
    {
     "data": {
      "text/plain": [
       "True"
      ]
     },
     "execution_count": 3,
     "metadata": {},
     "output_type": "execute_result"
    }
   ],
   "source": [
    "tosc.write(root, \"../demos/files/out.tosc\")"
   ]
  }
 ],
 "metadata": {
  "kernelspec": {
   "display_name": "Python 3 (ipykernel)",
   "language": "python",
   "name": "python3"
  },
  "language_info": {
   "codemirror_mode": {
    "name": "ipython",
    "version": 3
   },
   "file_extension": ".py",
   "mimetype": "text/x-python",
   "name": "python",
   "nbconvert_exporter": "python",
   "pygments_lexer": "ipython3",
   "version": "3.9.12"
  }
 },
 "nbformat": 4,
 "nbformat_minor": 5
}