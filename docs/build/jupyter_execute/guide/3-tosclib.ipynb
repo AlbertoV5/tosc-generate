{
 "cells": [
  {
   "cell_type": "code",
   "execution_count": 1,
   "id": "08d8c2cf",
   "metadata": {
    "execution": {
     "iopub.execute_input": "2022-05-26T06:06:05.141482Z",
     "iopub.status.busy": "2022-05-26T06:06:05.141482Z",
     "iopub.status.idle": "2022-05-26T06:06:05.158510Z",
     "shell.execute_reply": "2022-05-26T06:06:05.158510Z"
    }
   },
   "outputs": [
    {
     "name": "stdout",
     "output_type": "stream",
     "text": [
      "<property type=\"c\">\n",
      "  <key>color</key>\n",
      "  <value>\n",
      "    <r>0.25</r>\n",
      "    <g>0.25</g>\n",
      "    <b>0.25</b>\n",
      "    <a>1</a>\n",
      "  </value>\n",
      "</property>\n"
     ]
    }
   ],
   "source": [
    "import tosclib as tosc\n",
    "\n",
    "root = tosc.load(\"../demos/files/test.tosc\")\n",
    "parent = tosc.e(root[0])\n",
    "target = tosc.e(parent.findChild(\"target\"))\n",
    "target.showProperty(\"color\")"
   ]
  },
  {
   "cell_type": "code",
   "execution_count": 2,
   "id": "54133674",
   "metadata": {
    "execution": {
     "iopub.execute_input": "2022-05-26T06:06:05.160480Z",
     "iopub.status.busy": "2022-05-26T06:06:05.160480Z",
     "iopub.status.idle": "2022-05-26T06:06:05.164510Z",
     "shell.execute_reply": "2022-05-26T06:06:05.164510Z"
    }
   },
   "outputs": [
    {
     "name": "stdout",
     "output_type": "stream",
     "text": [
      "<property type=\"c\">\n",
      "  <key>color</key>\n",
      "  <value>\n",
      "    <r>0</r>\n",
      "    <g>0</g>\n",
      "    <b>1</b>\n",
      "    <a>1</a>\n",
      "  </value>\n",
      "</property>\n"
     ]
    }
   ],
   "source": [
    "colors = {\"r\":\"0\", \"g\":\"0\", \"b\":\"1\", \"a\":\"1\"}\n",
    "target.setPropertyValue(\"color\", params = colors)\n",
    "target.showProperty(\"color\")"
   ]
  },
  {
   "cell_type": "code",
   "execution_count": 3,
   "id": "80eab9ea",
   "metadata": {
    "execution": {
     "iopub.execute_input": "2022-05-26T06:06:05.166480Z",
     "iopub.status.busy": "2022-05-26T06:06:05.166480Z",
     "iopub.status.idle": "2022-05-26T06:06:05.190539Z",
     "shell.execute_reply": "2022-05-26T06:06:05.190539Z"
    }
   },
   "outputs": [
    {
     "data": {
      "text/plain": [
       "True"
      ]
     },
     "execution_count": 3,
     "metadata": {},
     "output_type": "execute_result"
    }
   ],
   "source": [
    "tosc.write(root, \"../demos/files/out.tosc\")"
   ]
  }
 ],
 "metadata": {
  "kernelspec": {
   "display_name": "Python 3 (ipykernel)",
   "language": "python",
   "name": "python3"
  },
  "language_info": {
   "codemirror_mode": {
    "name": "ipython",
    "version": 3
   },
   "file_extension": ".py",
   "mimetype": "text/x-python",
   "name": "python",
   "nbconvert_exporter": "python",
   "pygments_lexer": "ipython3",
   "version": "3.9.12"
  }
 },
 "nbformat": 4,
 "nbformat_minor": 5
}