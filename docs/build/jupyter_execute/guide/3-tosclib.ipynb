{
 "cells": [
  {
   "cell_type": "code",
   "execution_count": 1,
   "id": "469aca4a",
   "metadata": {
    "execution": {
     "iopub.execute_input": "2022-05-23T02:05:07.982558Z",
     "iopub.status.busy": "2022-05-23T02:05:07.982558Z",
     "iopub.status.idle": "2022-05-23T02:05:07.999558Z",
     "shell.execute_reply": "2022-05-23T02:05:07.999558Z"
    }
   },
   "outputs": [
    {
     "name": "stdout",
     "output_type": "stream",
     "text": [
      "<property type=\"c\">\n",
      "  <key>color</key>\n",
      "  <value>\n",
      "    <r>0.25</r>\n",
      "    <g>0.25</g>\n",
      "    <b>0.25</b>\n",
      "    <a>1</a>\n",
      "  </value>\n",
      "</property>\n"
     ]
    }
   ],
   "source": [
    "import tosclib as tosc\n",
    "\n",
    "root = tosc.load(\"../demos/files/test.tosc\")\n",
    "parent = tosc.e(root[0])\n",
    "target = tosc.e(parent.findChild(\"target\"))\n",
    "target.showProperty(\"color\")"
   ]
  },
  {
   "cell_type": "code",
   "execution_count": 2,
   "id": "6058ba7b",
   "metadata": {
    "execution": {
     "iopub.execute_input": "2022-05-23T02:05:08.001558Z",
     "iopub.status.busy": "2022-05-23T02:05:08.001558Z",
     "iopub.status.idle": "2022-05-23T02:05:08.004558Z",
     "shell.execute_reply": "2022-05-23T02:05:08.004558Z"
    }
   },
   "outputs": [
    {
     "name": "stdout",
     "output_type": "stream",
     "text": [
      "<property type=\"c\">\n",
      "  <key>color</key>\n",
      "  <value>\n",
      "    <r>0</r>\n",
      "    <g>0</g>\n",
      "    <b>1</b>\n",
      "    <a>1</a>\n",
      "  </value>\n",
      "</property>\n"
     ]
    }
   ],
   "source": [
    "colors = {\"r\":\"0\", \"g\":\"0\", \"b\":\"1\", \"a\":\"1\"}\n",
    "target.setPropertyValue(\"color\", params = colors)\n",
    "target.showProperty(\"color\")"
   ]
  },
  {
   "cell_type": "code",
   "execution_count": 3,
   "id": "7a98ae6a",
   "metadata": {
    "execution": {
     "iopub.execute_input": "2022-05-23T02:05:08.006558Z",
     "iopub.status.busy": "2022-05-23T02:05:08.006558Z",
     "iopub.status.idle": "2022-05-23T02:05:08.029560Z",
     "shell.execute_reply": "2022-05-23T02:05:08.029560Z"
    }
   },
   "outputs": [
    {
     "data": {
      "text/plain": [
       "True"
      ]
     },
     "execution_count": 3,
     "metadata": {},
     "output_type": "execute_result"
    }
   ],
   "source": [
    "tosc.write(root, \"../demos/files/out.tosc\")"
   ]
  },
  {
   "cell_type": "code",
   "execution_count": 4,
   "id": "e505ffd2",
   "metadata": {
    "execution": {
     "iopub.execute_input": "2022-05-23T02:05:08.031558Z",
     "iopub.status.busy": "2022-05-23T02:05:08.031558Z",
     "iopub.status.idle": "2022-05-23T02:05:08.056611Z",
     "shell.execute_reply": "2022-05-23T02:05:08.056611Z"
    }
   },
   "outputs": [
    {
     "name": "stdout",
     "output_type": "stream",
     "text": [
      "Added Property: \n",
      "<property type=\"s\">\n",
      "  <key>name</key>\n",
      "  <value>group</value>\n",
      "</property>\n",
      "<property type=\"s\">\n",
      "  <key>name</key>\n",
      "  <value>geoff</value>\n",
      "</property>\n"
     ]
    },
    {
     "data": {
      "text/plain": [
       "True"
      ]
     },
     "execution_count": 4,
     "metadata": {},
     "output_type": "execute_result"
    }
   ],
   "source": [
    "import tosclib as tosc\n",
    "import argparse\n",
    "\n",
    "root = tosc.load(\"../demos/files/test.tosc\")\n",
    "parent = tosc.ElementTOSC(root[0])\n",
    "\n",
    "# Creating Property in parent Node\n",
    "parent.createProperty(\n",
    "                        type =\"s\",\n",
    "                        key = \"name\",\n",
    "                        text = \"geoff\"\n",
    "                     )\n",
    "\n",
    "print(\"Added Property: \")\n",
    "parent.showProperty(\"name\")\n",
    "tosc.write(root, \"../demos/files/out.tosc\")"
   ]
  }
 ],
 "metadata": {
  "kernelspec": {
   "display_name": "Python 3 (ipykernel)",
   "language": "python",
   "name": "python3"
  },
  "language_info": {
   "codemirror_mode": {
    "name": "ipython",
    "version": 3
   },
   "file_extension": ".py",
   "mimetype": "text/x-python",
   "name": "python",
   "nbconvert_exporter": "python",
   "pygments_lexer": "ipython3",
   "version": "3.9.12"
  }
 },
 "nbformat": 4,
 "nbformat_minor": 5
}