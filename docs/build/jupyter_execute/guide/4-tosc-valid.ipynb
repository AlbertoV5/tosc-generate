{
 "cells": [
  {
   "cell_type": "code",
   "execution_count": 1,
   "id": "d1e5ba09",
   "metadata": {
    "execution": {
     "iopub.execute_input": "2022-05-26T06:02:00.203481Z",
     "iopub.status.busy": "2022-05-26T06:02:00.203481Z",
     "iopub.status.idle": "2022-05-26T06:02:00.242482Z",
     "shell.execute_reply": "2022-05-26T06:02:00.242482Z"
    }
   },
   "outputs": [
    {
     "name": "stdout",
     "output_type": "stream",
     "text": [
      "Added Property:\n",
      "\n",
      "<property type=\"s\">\n",
      "  <key>CustomProperty</key>\n",
      "  <value>1007</value>\n",
      "</property>\n"
     ]
    },
    {
     "data": {
      "text/plain": [
       "True"
      ]
     },
     "execution_count": 1,
     "metadata": {},
     "output_type": "execute_result"
    }
   ],
   "source": [
    "import tosclib as tosc\n",
    "\n",
    "root = tosc.load(\"../demos/files/test.tosc\")\n",
    "parent = tosc.ElementTOSC(root[0])\n",
    "\n",
    "parent.createProperty(\"s\", \"CustomProperty\", \"1007\")\n",
    "\n",
    "print(\"Added Property:\\n\")\n",
    "parent.showProperty(\"CustomProperty\")\n",
    "\n",
    "tosc.write(root, \"../demos/files/out.tosc\")"
   ]
  },
  {
   "cell_type": "code",
   "execution_count": 2,
   "id": "1e4d3ec6",
   "metadata": {
    "execution": {
     "iopub.execute_input": "2022-05-26T06:02:00.244510Z",
     "iopub.status.busy": "2022-05-26T06:02:00.244510Z",
     "iopub.status.idle": "2022-05-26T06:02:00.248533Z",
     "shell.execute_reply": "2022-05-26T06:02:00.248533Z"
    }
   },
   "outputs": [
    {
     "name": "stdout",
     "output_type": "stream",
     "text": [
      "{'node': <Element 'node' at 0x0000019B22287270>, 'properties': <Element 'properties' at 0x0000019B22292220>, 'values': <Element 'values' at 0x0000019B22433AE0>, 'messages': <Element 'messages' at 0x0000019B22433B30>, 'children': <Element 'children' at 0x0000019B22266720>}\n"
     ]
    }
   ],
   "source": [
    "box = tosc.ElementTOSC(parent.createNode(\"BOX\"))\n",
    "\n",
    "box.createProperty(\"c\", \"color\", \"\", {\n",
    "                     \"r\" : str(1),\n",
    "                     \"g\" : str(1),\n",
    "                     \"b\" : str(0),\n",
    "                     \"a\" : \"1\"\n",
    "                  })\n",
    "\n",
    "print(box.__dict__)"
   ]
  }
 ],
 "metadata": {
  "kernelspec": {
   "display_name": "Python 3 (ipykernel)",
   "language": "python",
   "name": "python3"
  },
  "language_info": {
   "codemirror_mode": {
    "name": "ipython",
    "version": 3
   },
   "file_extension": ".py",
   "mimetype": "text/x-python",
   "name": "python",
   "nbconvert_exporter": "python",
   "pygments_lexer": "ipython3",
   "version": "3.9.12"
  }
 },
 "nbformat": 4,
 "nbformat_minor": 5
}