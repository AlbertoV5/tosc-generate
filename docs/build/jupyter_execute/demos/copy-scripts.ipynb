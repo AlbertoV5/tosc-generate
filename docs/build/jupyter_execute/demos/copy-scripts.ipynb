{
 "cells": [
  {
   "cell_type": "code",
   "execution_count": 1,
   "id": "cf6b5cdb",
   "metadata": {
    "execution": {
     "iopub.execute_input": "2022-05-26T06:06:26.974481Z",
     "iopub.status.busy": "2022-05-26T06:06:26.974481Z",
     "iopub.status.idle": "2022-05-26T06:06:27.029482Z",
     "shell.execute_reply": "2022-05-26T06:06:27.029482Z"
    }
   },
   "outputs": [
    {
     "name": "stdout",
     "output_type": "stream",
     "text": [
      "Wrote:\n",
      " \n",
      "function init()\n",
      "  local r = self.frame.x / self.parent.frame.x\n",
      "  local g = self.frame.y / self.parent.frame.y\n",
      "  local b = 0\n",
      "  \n",
      "  self.color = Color(r,g,b)\n",
      "  \n",
      "end\n",
      "\n",
      "function onReceiveNotify(key,value)\n",
      "  local r = self.frame.x / self.parent.frame.x\n",
      "  local g = self.frame.y / self.parent.frame.y\n",
      "  local b = 0\n",
      "  \n",
      "  local x = value\n",
      "  self.color = Color(r * x, 1 - (g * x), x)\n",
      "  \n",
      "end\n",
      "To file: ../demos/files/out.tosc\n"
     ]
    }
   ],
   "source": [
    "import tosclib as tosc\n",
    "import re\n",
    "\n",
    "def CopyScripts(input : str, output : str, source : str = \"source\", target : str = \"target\"):\n",
    "    \"\"\"Find the script in source and copy it to all children in target\"\"\"\n",
    "\n",
    "    script = tosc.pullValueFromKey(\n",
    "                        inputFile = input,\n",
    "                        key = \"name\",\n",
    "                        value = source,\n",
    "                        targetKey = \"script\")\n",
    "\n",
    "    root = tosc.load(input)\n",
    "    main = tosc.ElementTOSC(root[0])\n",
    "\n",
    "    for primary in main.children:\n",
    "        primary = tosc.ElementTOSC(primary)\n",
    "\n",
    "        if re.fullmatch(primary.getPropertyValue(\"name\").text, target):\n",
    "            continue\n",
    "\n",
    "        for secondary in primary.children:\n",
    "            secondary = tosc.ElementTOSC(secondary)\n",
    "            secondary.createProperty(\"s\", \"script\", script)\n",
    "\n",
    "        tosc.write(root, output)\n",
    "\n",
    "        return print(f\"Wrote:\\n \\n{script}\\nTo file: {output}\")\n",
    "\n",
    "if __name__ == \"__main__\":\n",
    "\n",
    "    CopyScripts(\n",
    "                    \"../demos/files/test.tosc\",\n",
    "                    \"../demos/files/out.tosc\",\n",
    "                    \"source\",\n",
    "                    \"target\"\n",
    "                )"
   ]
  }
 ],
 "metadata": {
  "kernelspec": {
   "display_name": "Python 3 (ipykernel)",
   "language": "python",
   "name": "python3"
  },
  "language_info": {
   "codemirror_mode": {
    "name": "ipython",
    "version": 3
   },
   "file_extension": ".py",
   "mimetype": "text/x-python",
   "name": "python",
   "nbconvert_exporter": "python",
   "pygments_lexer": "ipython3",
   "version": "3.9.12"
  }
 },
 "nbformat": 4,
 "nbformat_minor": 5
}