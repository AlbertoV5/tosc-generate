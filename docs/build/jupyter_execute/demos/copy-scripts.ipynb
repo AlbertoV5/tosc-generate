{
 "cells": [
  {
   "cell_type": "code",
   "execution_count": 1,
   "id": "8876ce1f",
   "metadata": {
    "execution": {
     "iopub.execute_input": "2022-05-26T19:44:20.033902Z",
     "iopub.status.busy": "2022-05-26T19:44:20.033902Z",
     "iopub.status.idle": "2022-05-26T19:44:20.092904Z",
     "shell.execute_reply": "2022-05-26T19:44:20.092904Z"
    }
   },
   "outputs": [
    {
     "name": "stdout",
     "output_type": "stream",
     "text": [
      "Wrote:\n",
      " \n",
      "function init()\n",
      "  local r = self.frame.x / self.parent.frame.x\n",
      "  local g = self.frame.y / self.parent.frame.y\n",
      "  local b = 0\n",
      "  \n",
      "  self.color = Color(r,g,b)\n",
      "  \n",
      "end\n",
      "\n",
      "function onReceiveNotify(key,value)\n",
      "  local r = self.frame.x / self.parent.frame.x\n",
      "  local g = self.frame.y / self.parent.frame.y\n",
      "  local b = 0\n",
      "  \n",
      "  local x = value\n",
      "  self.color = Color(r * x, 1 - (g * x), x)\n",
      "  \n",
      "end\n",
      "\n",
      "To file: ../demos/files/out.tosc\n"
     ]
    }
   ],
   "source": [
    "import tosclib as tosc\n",
    "import re\n",
    "\n",
    "def main(inputFile, outputFile, sourceName, targetName):\n",
    "\n",
    "    # Find the script string with a streaming parser\n",
    "    script = tosc.pullValueFromKey(\n",
    "                                        inputFile = inputFile,\n",
    "                                        key = \"name\",\n",
    "                                        value = sourceName,\n",
    "                                        targetKey = \"script\"\n",
    "                                    )\n",
    "\n",
    "    root = tosc.load(inputFile)\n",
    "    main = tosc.ElementTOSC(root[0])\n",
    "\n",
    "    for group in main.children:\n",
    "        group = tosc.ElementTOSC(group)\n",
    "\n",
    "        # Move on if the Property is not the target\n",
    "        if not re.fullmatch(group.getPropertyValue(\"name\").text, targetName):\n",
    "            continue\n",
    "\n",
    "        # Assuming the Element is the target, iterate through children\n",
    "        for box in group.children:\n",
    "            box = tosc.ElementTOSC(box)\n",
    "            if box.isProperty(\"script\"):\n",
    "                box.setPropertyValue(\"script\", script)\n",
    "            else:\n",
    "                box.createProperty(\"s\", \"script\", script)\n",
    "\n",
    "        tosc.write(root, outputFile)\n",
    "\n",
    "        return print(f\"Wrote:\\n \\n{script}\\n\\nTo file: {outputFile}\")\n",
    "\n",
    "if __name__ == \"__main__\":\n",
    "\n",
    "    main(\n",
    "            \"../demos/files/test.tosc\",\n",
    "            \"../demos/files/out.tosc\",\n",
    "            \"source\",\n",
    "            \"target\"\n",
    "        )"
   ]
  }
 ],
 "metadata": {
  "kernelspec": {
   "display_name": "Python 3 (ipykernel)",
   "language": "python",
   "name": "python3"
  },
  "language_info": {
   "codemirror_mode": {
    "name": "ipython",
    "version": 3
   },
   "file_extension": ".py",
   "mimetype": "text/x-python",
   "name": "python",
   "nbconvert_exporter": "python",
   "pygments_lexer": "ipython3",
   "version": "3.9.12"
  }
 },
 "nbformat": 4,
 "nbformat_minor": 5
}