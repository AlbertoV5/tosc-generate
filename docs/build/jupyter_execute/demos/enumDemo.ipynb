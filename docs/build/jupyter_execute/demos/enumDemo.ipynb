{
 "cells": [
  {
   "cell_type": "code",
   "execution_count": 1,
   "id": "52f52f32",
   "metadata": {
    "execution": {
     "iopub.execute_input": "2022-05-23T01:08:23.095773Z",
     "iopub.status.busy": "2022-05-23T01:08:23.095773Z",
     "iopub.status.idle": "2022-05-23T01:08:23.114773Z",
     "shell.execute_reply": "2022-05-23T01:08:23.114773Z"
    }
   },
   "outputs": [
    {
     "name": "stdout",
     "output_type": "stream",
     "text": [
      "<Element 'lexml' at 0x000001C0E27C2720>\n",
      "node <Element 'node' at 0x000001C0E27C2810>\n",
      "properties <Element 'properties' at 0x000001C0E2842270>\n",
      "values <Element 'values' at 0x000001C0E2861130>\n",
      "messages <Element 'messages' at 0x000001C0E277F2C0>\n",
      "children <Element 'children' at 0x000001C0E28613B0>\n",
      "styles <Element 'styles' at 0x000001C0E2772180>\n"
     ]
    }
   ],
   "source": [
    "import tosclib as tosc\n",
    "root = tosc.load(\"../demos/files/test.tosc\")\n",
    "print(root)\n",
    "\n",
    "newEnum = tosc.SubElements.new(\"Styled\", {\"STYLES\":\"styles\"})\n",
    "e = tosc.e(root[0], newEnum)\n",
    "\n",
    "for k in e.__dict__:\n",
    "    print(k, e.__dict__[k])"
   ]
  }
 ],
 "metadata": {
  "kernelspec": {
   "display_name": "Python 3 (ipykernel)",
   "language": "python",
   "name": "python3"
  },
  "language_info": {
   "codemirror_mode": {
    "name": "ipython",
    "version": 3
   },
   "file_extension": ".py",
   "mimetype": "text/x-python",
   "name": "python",
   "nbconvert_exporter": "python",
   "pygments_lexer": "ipython3",
   "version": "3.9.12"
  }
 },
 "nbformat": 4,
 "nbformat_minor": 5
}