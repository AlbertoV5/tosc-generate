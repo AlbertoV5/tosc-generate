{
 "cells": [
  {
   "cell_type": "code",
   "execution_count": 1,
   "id": "c5d5174d",
   "metadata": {
    "execution": {
     "iopub.execute_input": "2022-05-24T18:33:59.284609Z",
     "iopub.status.busy": "2022-05-24T18:33:59.283932Z",
     "iopub.status.idle": "2022-05-24T18:33:59.309892Z",
     "shell.execute_reply": "2022-05-24T18:33:59.309077Z"
    }
   },
   "outputs": [
    {
     "name": "stdout",
     "output_type": "stream",
     "text": [
      "<Element 'lexml' at 0x7fe67921a040>\n",
      "node <Element 'node' at 0x7fe67921a090>\n",
      "properties <Element 'properties' at 0x7fe67921aa90>\n",
      "values <Element 'values' at 0x7fe679247310>\n",
      "messages <Element 'messages' at 0x7fe67909b450>\n",
      "children <Element 'children' at 0x7fe679247590>\n",
      "styles <Element 'styles' at 0x7fe67920a4a0>\n"
     ]
    }
   ],
   "source": [
    "import tosclib as tosc\n",
    "root = tosc.load(\"../demos/files/test.tosc\")\n",
    "print(root)\n",
    "\n",
    "newEnum = tosc.SubElements.new(\"Styled\", {\"STYLES\":\"styles\"})\n",
    "e = tosc.e(root[0], newEnum)\n",
    "\n",
    "for k in e.__dict__:\n",
    "    print(k, e.__dict__[k])"
   ]
  }
 ],
 "metadata": {
  "kernelspec": {
   "display_name": "Python 3 (ipykernel)",
   "language": "python",
   "name": "python3"
  },
  "language_info": {
   "codemirror_mode": {
    "name": "ipython",
    "version": 3
   },
   "file_extension": ".py",
   "mimetype": "text/x-python",
   "name": "python",
   "nbconvert_exporter": "python",
   "pygments_lexer": "ipython3",
   "version": "3.9.12"
  }
 },
 "nbformat": 4,
 "nbformat_minor": 5
}