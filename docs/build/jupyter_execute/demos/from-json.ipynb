{
 "cells": [
  {
   "cell_type": "code",
   "execution_count": 1,
   "id": "71c79469",
   "metadata": {
    "execution": {
     "iopub.execute_input": "2022-05-26T19:46:02.839944Z",
     "iopub.status.busy": "2022-05-26T19:46:02.838944Z",
     "iopub.status.idle": "2022-05-26T19:46:02.856944Z",
     "shell.execute_reply": "2022-05-26T19:46:02.856944Z"
    }
   },
   "outputs": [],
   "source": [
    "import tosclib as tosc\n",
    "import json\n",
    "\n",
    "def frame(x,y,w,h) -> dict:\n",
    "    return {\"x\":str(x), \"y\":str(y), \"w\":str(w), \"h\":str(h)}\n",
    "\n",
    "def getJson(fileName : str):\n",
    "    with open(fileName, \"r\") as file:\n",
    "        return json.loads(file.read())\n",
    "\n",
    "def createFader(e : tosc.ElementTOSC, name, width, limit, i):\n",
    "    fader = tosc.ElementTOSC(e.createNode(\"FADER\"))\n",
    "    fader.createProperty(\"s\", \"name\", name)\n",
    "    fader.setFrame(width*i, 0, width, 1080)\n",
    "    fader.setColor(i/limit, 0, 1 - i/limit, 1)\n",
    "    fader.createOSC() # Default OSC message\n",
    "\n",
    "def main(jsonFile, outputFile):\n",
    "    root = tosc.createTemplate()\n",
    "    base = tosc.ElementTOSC(root[0])\n",
    "    base.createProperty(\"s\", \"name\", \"template\")\n",
    "    base.setFrame(0, 0, 1920, 1080)\n",
    "\n",
    "    # Group container for the faders\n",
    "    group = tosc.ElementTOSC(base.createNode(\"GROUP\"))\n",
    "    group.createProperty(\"s\", \"name\", \"Controls\")\n",
    "    group.setFrame(420, 0, 1080, 1080)\n",
    "    group.setColor(0.25, 0.25, 0.25, 1)\n",
    "\n",
    "    # Create faders based on Json data\n",
    "    jsonData = getJson(jsonFile)\n",
    "    limit = 10\n",
    "    width = int(group.getPropertyParam(\"frame\", \"w\").text)/limit\n",
    "\n",
    "    for i, param in enumerate(jsonData):\n",
    "        createFader(group, param[\"name\"], width, limit, i)\n",
    "        if i == limit:\n",
    "            break\n",
    "\n",
    "    tosc.write(root, outputFile)\n",
    "\n",
    "if __name__ == \"__main__\":\n",
    "    main(\n",
    "        \"../demos/files/Pro-C 2 (FabFilter).json\",\n",
    "        \"../demos/files/newTemplate.tosc\"\n",
    "        )"
   ]
  }
 ],
 "metadata": {
  "kernelspec": {
   "display_name": "Python 3 (ipykernel)",
   "language": "python",
   "name": "python3"
  },
  "language_info": {
   "codemirror_mode": {
    "name": "ipython",
    "version": 3
   },
   "file_extension": ".py",
   "mimetype": "text/x-python",
   "name": "python",
   "nbconvert_exporter": "python",
   "pygments_lexer": "ipython3",
   "version": "3.9.12"
  }
 },
 "nbformat": 4,
 "nbformat_minor": 5
}