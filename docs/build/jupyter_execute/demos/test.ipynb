{
 "cells": [
  {
   "cell_type": "code",
   "execution_count": 1,
   "id": "fca31270",
   "metadata": {
    "execution": {
     "iopub.execute_input": "2022-05-24T18:34:00.744513Z",
     "iopub.status.busy": "2022-05-24T18:34:00.744123Z",
     "iopub.status.idle": "2022-05-24T18:34:00.763947Z",
     "shell.execute_reply": "2022-05-24T18:34:00.763062Z"
    }
   },
   "outputs": [
    {
     "name": "stdout",
     "output_type": "stream",
     "text": [
      "SubElements.PROPERTIES\n",
      "SubElements.VALUES\n",
      "SubElements.MESSAGES\n",
      "SubElements.CHILDREN\n"
     ]
    }
   ],
   "source": [
    "import tosclib as tosc\n",
    "\n",
    "for v in tosc.SubElements:\n",
    "    print(v)"
   ]
  }
 ],
 "metadata": {
  "kernelspec": {
   "display_name": "Python 3 (ipykernel)",
   "language": "python",
   "name": "python3"
  },
  "language_info": {
   "codemirror_mode": {
    "name": "ipython",
    "version": 3
   },
   "file_extension": ".py",
   "mimetype": "text/x-python",
   "name": "python",
   "nbconvert_exporter": "python",
   "pygments_lexer": "ipython3",
   "version": "3.9.12"
  }
 },
 "nbformat": 4,
 "nbformat_minor": 5
}