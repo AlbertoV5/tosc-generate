{
 "cells": [
  {
   "cell_type": "code",
   "execution_count": 1,
   "id": "0f92d33e",
   "metadata": {
    "execution": {
     "iopub.execute_input": "2022-05-26T05:57:29.591403Z",
     "iopub.status.busy": "2022-05-26T05:57:29.591403Z",
     "iopub.status.idle": "2022-05-26T05:57:29.603403Z",
     "shell.execute_reply": "2022-05-26T05:57:29.603403Z"
    }
   },
   "outputs": [
    {
     "name": "stdout",
     "output_type": "stream",
     "text": [
      "__module__\n",
      "__doc__\n",
      "__init__\n",
      "fromFile\n",
      "getPropertyValue\n",
      "setPropertyValue\n",
      "createProperty\n",
      "findChild\n",
      "createNode\n",
      "show\n",
      "showValues\n",
      "showProperty\n",
      "showValue\n",
      "display\n",
      "__dict__\n",
      "__weakref__\n"
     ]
    }
   ],
   "source": [
    "import tosclib as tosc\n",
    "\n",
    "for v in tosc.ElementTOSC.__dict__:\n",
    "    print(v)"
   ]
  }
 ],
 "metadata": {
  "kernelspec": {
   "display_name": "Python 3 (ipykernel)",
   "language": "python",
   "name": "python3"
  },
  "language_info": {
   "codemirror_mode": {
    "name": "ipython",
    "version": 3
   },
   "file_extension": ".py",
   "mimetype": "text/x-python",
   "name": "python",
   "nbconvert_exporter": "python",
   "pygments_lexer": "ipython3",
   "version": "3.9.12"
  }
 },
 "nbformat": 4,
 "nbformat_minor": 5
}